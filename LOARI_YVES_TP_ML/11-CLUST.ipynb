{
 "cells": [
  {
   "cell_type": "markdown",
   "metadata": {
    "nbgrader": {
     "grade": false,
     "grade_id": "cell-30e9a7c49790a0f2",
     "locked": true,
     "schema_version": 3,
     "solution": false
    }
   },
   "source": [
    "# Tutorial 11: Clustering"
   ]
  },
  {
   "cell_type": "markdown",
   "metadata": {
    "nbgrader": {
     "grade": false,
     "grade_id": "cell-36912ea78749d08d",
     "locked": true,
     "schema_version": 3,
     "solution": false
    }
   },
   "source": [
    "__The goal of this assignment is to implement your own version of the k-means algorithm.__\n",
    "\n",
    "First, you must create 5 intermediate functions to help you divide and implement the algorithm.\n",
    "\n",
    "At the end of the notebook, the algorithm should achieve a 100% score on the given dataset.\n",
    "\n",
    "__Grade scale__: 20 points\n",
    "- __correct function__: 2 points\n",
    "- __correct given result__: 4 points\n",
    "- __correct hidden result__: 6 points\n",
    "\n",
    "__Further documentations__:\n",
    "* https://learnxinyminutes.com/docs/python/\n",
    "* https://en.wikipedia.org/wiki/K-means_clustering\n",
    "* http://stanford.edu/~cpiech/cs221/handouts/kmeans.html"
   ]
  },
  {
   "cell_type": "markdown",
   "metadata": {
    "nbgrader": {
     "grade": false,
     "grade_id": "cell-cad05a4141096aae",
     "locked": true,
     "schema_version": 3,
     "solution": false
    }
   },
   "source": [
    "# Core"
   ]
  },
  {
   "cell_type": "code",
   "execution_count": 1,
   "metadata": {
    "nbgrader": {
     "grade": false,
     "grade_id": "cell-4a6ef88e0b3c3360",
     "locked": true,
     "schema_version": 3,
     "solution": false
    }
   },
   "outputs": [
    {
     "name": "stderr",
     "output_type": "stream",
     "text": [
      "/home/dama/anaconda3/lib/python3.8/site-packages/sklearn/utils/deprecation.py:143: FutureWarning: The sklearn.datasets.samples_generator module is  deprecated in version 0.22 and will be removed in version 0.24. The corresponding classes / functions should instead be imported from sklearn.datasets. Anything that cannot be imported from sklearn.datasets is now part of the private API.\n",
      "  warnings.warn(message, FutureWarning)\n"
     ]
    }
   ],
   "source": [
    "# to display plots\n",
    "%matplotlib inline\n",
    "\n",
    "import math\n",
    "\n",
    "import matplotlib.pyplot as plt\n",
    "\n",
    "from sklearn.cluster import KMeans\n",
    "from sklearn.metrics import adjusted_rand_score\n",
    "from sklearn.datasets.samples_generator import make_blobs"
   ]
  },
  {
   "cell_type": "code",
   "execution_count": 2,
   "metadata": {
    "nbgrader": {
     "grade": false,
     "grade_id": "cell-b2ab01ee37675928",
     "locked": true,
     "schema_version": 3,
     "solution": false
    }
   },
   "outputs": [],
   "source": [
    "# generate 100 data points that have 2 features, then divide them into 3 clusters\n",
    "# we shuffle the point in a deterministic way to have the same version on our computers\n",
    "X, y = make_blobs(n_samples=100, n_features=2, centers=3, cluster_std=1, shuffle=True, random_state=100)"
   ]
  },
  {
   "cell_type": "code",
   "execution_count": 3,
   "metadata": {
    "nbgrader": {
     "grade": false,
     "grade_id": "cell-9845bd902efd8101",
     "locked": true,
     "schema_version": 3,
     "solution": false
    }
   },
   "outputs": [
    {
     "data": {
      "text/plain": [
       "array([[  0.33681846,  -3.40287961],\n",
       "       [ -9.48324266,  -8.66266052],\n",
       "       [ -1.93336328,   5.70953908],\n",
       "       [-10.03182406,  -5.57834393],\n",
       "       [  0.54186078,  -4.37693628]])"
      ]
     },
     "execution_count": 3,
     "metadata": {},
     "output_type": "execute_result"
    }
   ],
   "source": [
    "# 5 data points\n",
    "# col: features\n",
    "# row: points\n",
    "X[:5]"
   ]
  },
  {
   "cell_type": "code",
   "execution_count": 4,
   "metadata": {
    "nbgrader": {
     "grade": false,
     "grade_id": "cell-b8e217f127b29f5a",
     "locked": true,
     "schema_version": 3,
     "solution": false
    }
   },
   "outputs": [
    {
     "data": {
      "text/plain": [
       "array([0, 2, 1, 2, 0, 2, 1, 1, 0, 2, 0, 2, 1, 0, 1, 1, 0, 2, 2, 0, 0, 0,\n",
       "       0, 2, 1, 0, 2, 1, 0, 2, 0, 1, 0, 2, 2, 0, 0, 2, 1, 2, 1, 0, 2, 1,\n",
       "       1, 2, 2, 1, 1, 1, 1, 0, 2, 2, 0, 0, 2, 0, 2, 0, 1, 0, 0, 0, 1, 0,\n",
       "       1, 2, 2, 1, 0, 0, 2, 2, 1, 0, 2, 1, 1, 2, 2, 0, 1, 1, 0, 2, 1, 2,\n",
       "       2, 1, 2, 1, 1, 2, 1, 1, 0, 0, 1, 0])"
      ]
     },
     "execution_count": 4,
     "metadata": {},
     "output_type": "execute_result"
    }
   ],
   "source": [
    "# data point labels\n",
    "# 3 clusters: 0, 1, 2\n",
    "y"
   ]
  },
  {
   "cell_type": "code",
   "execution_count": 6,
   "metadata": {
    "nbgrader": {
     "grade": false,
     "grade_id": "cell-24845c0053c093a9",
     "locked": true,
     "schema_version": 3,
     "solution": false
    }
   },
   "outputs": [
    {
     "data": {
      "image/png": "[encoded data removed]",
      "text/plain": [
       "<Figure size 432x288 with 1 Axes>"
      ]
     },
     "metadata": {
      "needs_background": "light"
     },
     "output_type": "display_data"
    }
   ],
   "source": [
    "# draw a scatter plot of the points\n",
    "# X[:, 0]: all points, 1st dimension\n",
    "# X[:, 1]: all points, 2nd dimension\n",
    "# c: color of the points (cluster label)\n",
    "plt.scatter(X[:, 0], X[:, 1], c=y, s=30);"
   ]
  },
  {
   "cell_type": "markdown",
   "metadata": {
    "nbgrader": {
     "grade": false,
     "grade_id": "cell-586b08f0e543e3cc",
     "locked": true,
     "schema_version": 3,
     "solution": false
    }
   },
   "source": [
    "# Example"
   ]
  },
  {
   "cell_type": "code",
   "execution_count": 7,
   "metadata": {
    "nbgrader": {
     "grade": false,
     "grade_id": "cell-6af93bb1f92e6793",
     "locked": true,
     "schema_version": 3,
     "solution": false
    }
   },
   "outputs": [
    {
     "data": {
      "text/plain": [
       "array([0, 2, 1, 2, 0, 2, 1, 1, 0, 2, 0, 2, 1, 0, 1, 1, 0, 2, 2, 0, 0, 0,\n",
       "       0, 2, 1, 0, 2, 1, 0, 2, 0, 1, 0, 2, 2, 0, 0, 2, 1, 2, 1, 0, 2, 1,\n",
       "       1, 2, 2, 1, 1, 1, 1, 0, 2, 2, 0, 0, 2, 0, 2, 0, 1, 0, 0, 0, 1, 0,\n",
       "       1, 2, 2, 1, 0, 0, 2, 2, 1, 0, 2, 1, 1, 2, 2, 0, 1, 1, 0, 2, 1, 2,\n",
       "       2, 1, 2, 1, 1, 2, 1, 1, 0, 0, 1, 0], dtype=int32)"
      ]
     },
     "execution_count": 7,
     "metadata": {},
     "output_type": "execute_result"
    }
   ],
   "source": [
    "# we use the k-means implementation of sklearn\n",
    "# to demonstrate its usage on our dataset\n",
    "# here, we create and fit a new model  \n",
    "model = KMeans(n_clusters=3).fit(X)\n",
    "\n",
    "# collect the results\n",
    "labels = model.labels_\n",
    "\n",
    "labels"
   ]
  },
  {
   "cell_type": "code",
   "execution_count": 8,
   "metadata": {
    "nbgrader": {
     "grade": false,
     "grade_id": "cell-e35a1318553bffbe",
     "locked": true,
     "schema_version": 3,
     "solution": false
    }
   },
   "outputs": [
    {
     "name": "stdout",
     "output_type": "stream",
     "text": [
      "Score: 100.0000%\n"
     ]
    }
   ],
   "source": [
    "# compare the resulting labels with the true labels\n",
    "# the function should give a rand score of 100%\n",
    "score = adjusted_rand_score(y, labels)\n",
    "print(\"Score: {:0.4%}\".format(score))"
   ]
  },
  {
   "cell_type": "code",
   "execution_count": 9,
   "metadata": {
    "nbgrader": {
     "grade": false,
     "grade_id": "cell-ca4d25cd55f85e0d",
     "locked": true,
     "schema_version": 3,
     "solution": false
    }
   },
   "outputs": [
    {
     "data": {
      "image/png": "[encoded data removed]",
      "text/plain": [
       "<Figure size 432x288 with 1 Axes>"
      ]
     },
     "metadata": {
      "needs_background": "light"
     },
     "output_type": "display_data"
    }
   ],
   "source": [
    "# draw the proposed labels on a scatter plot\n",
    "plt.scatter(X[:, 0], X[:, 1], c=labels, s=30);"
   ]
  },
  {
   "cell_type": "markdown",
   "metadata": {
    "nbgrader": {
     "grade": false,
     "grade_id": "cell-c211cad31db8279c",
     "locked": true,
     "schema_version": 3,
     "solution": false
    }
   },
   "source": [
    "# Functions"
   ]
  },
  {
   "cell_type": "code",
   "execution_count": 10,
   "metadata": {
    "nbgrader": {
     "grade": false,
     "grade_id": "cell-3d7837de4e577403",
     "locked": false,
     "schema_version": 3,
     "solution": true
    }
   },
   "outputs": [],
   "source": [
    "def distance(a, b):\n",
    "    \"\"\"Compute the euclidean distance between 2 points with n dimensions.\"\"\"    \n",
    "    ### BEGIN SOLUTION\n",
    "    d = 0\n",
    "    for x, y in zip(a, b):\n",
    "        d += (x-y)**2\n",
    "    d = math.sqrt(d)\n",
    "    return d\n",
    "    ### END SOLUTION"
   ]
  },
  {
   "cell_type": "code",
   "execution_count": 11,
   "metadata": {
    "nbgrader": {
     "grade": false,
     "grade_id": "cell-1e0d02da6d74f88f",
     "locked": false,
     "schema_version": 3,
     "solution": true
    }
   },
   "outputs": [],
   "source": [
    "def initialize(points, k):\n",
    "    \"\"\"Select the k first points as the initial cluster centers.\"\"\"    \n",
    "    ### BEGIN SOLUTION\n",
    "    centers = []\n",
    "    centers = points[:k]\n",
    "    return centers\n",
    "    ### END SOLUTION"
   ]
  },
  {
   "cell_type": "code",
   "execution_count": 12,
   "metadata": {
    "nbgrader": {
     "grade": false,
     "grade_id": "cell-c587490cc2f14078",
     "locked": false,
     "schema_version": 3,
     "solution": true
    }
   },
   "outputs": [],
   "source": [
    "def reassign(points, centers, distance=distance):\n",
    "    \"\"\"Assign each point to its closest centers and return the center index.\"\"\" \n",
    "    ### BEGIN SOLUTION\n",
    "    labels = []\n",
    "    def closest(centers, point):\n",
    "        return min(centers, key=lambda center: distance(point, center))\n",
    "    \n",
    "    labels = [centers.index(closest(centers, point)) for point in points]\n",
    "    return labels\n",
    "    ### END SOLUTION"
   ]
  },
  {
   "cell_type": "code",
   "execution_count": 13,
   "metadata": {
    "nbgrader": {
     "grade": false,
     "grade_id": "cell-c90b2ea695088d5c",
     "locked": false,
     "schema_version": 3,
     "solution": true
    }
   },
   "outputs": [],
   "source": [
    "def recompute(points, labels):\n",
    "    \"\"\"Compute the coordinates of each center based their labels.\"\"\"\n",
    "    ### BEGIN SOLUTION\n",
    "    centers = []\n",
    "    clusters = []\n",
    "    transpose = lambda xs: zip(*xs)\n",
    "    mean = lambda xs: sum(xs) / len(xs)\n",
    "    coordinate = lambda matrix: [mean(col) for col in transpose(matrix)]\n",
    "    \n",
    "    # step 1: cluster points based on labels\n",
    "    clusters = [[] for label in set(labels)]\n",
    "    for point, label in zip(points, labels):\n",
    "        clusters[label].append(point)\n",
    "        \n",
    "    # step 2: compute the mean for each cluster\n",
    "    centers = [coordinate(cluster) for cluster in clusters]\n",
    "    return centers\n",
    "    ### END SOLUTION"
   ]
  },
  {
   "cell_type": "code",
   "execution_count": 14,
   "metadata": {
    "nbgrader": {
     "grade": false,
     "grade_id": "cell-83f5e4fe6ea14559",
     "locked": false,
     "schema_version": 3,
     "solution": true
    }
   },
   "outputs": [],
   "source": [
    "def converged(current, proposed):\n",
    "    \"\"\"Test that current and proposed centers have converged.\"\"\"\n",
    "    ### BEGIN SOLUTION\n",
    "    return current == proposed\n",
    "    ### END SOLUTION"
   ]
  },
  {
   "cell_type": "markdown",
   "metadata": {},
   "source": [
    "# Algorithm"
   ]
  },
  {
   "cell_type": "code",
   "execution_count": 15,
   "metadata": {
    "nbgrader": {
     "grade": false,
     "grade_id": "cell-c010e7a7a0d99dd8",
     "locked": false,
     "schema_version": 3,
     "solution": true
    }
   },
   "outputs": [],
   "source": [
    "def kmeans(points, k, distance=distance):\n",
    "    \"\"\"Cluster points into k clusters based on distance.\"\"\"\n",
    "    ### BEGIN SOLUTION\n",
    "    centers = initialize(points, k)\n",
    "    \n",
    "    while True:\n",
    "        labels = reassign(points, centers)\n",
    "        proposed = recompute(points, labels)\n",
    "        \n",
    "        if converged(centers, proposed):\n",
    "            return labels\n",
    "        \n",
    "        centers = proposed\n",
    "    ### END SOLUTION"
   ]
  },
  {
   "cell_type": "markdown",
   "metadata": {},
   "source": [
    "# Test Your Algorithm"
   ]
  },
  {
   "cell_type": "code",
   "execution_count": 26,
   "metadata": {},
   "outputs": [
    {
     "data": {
      "text/plain": [
       "<matplotlib.collections.PathCollection at 0x7fcd4ac93d60>"
      ]
     },
     "execution_count": 26,
     "metadata": {},
     "output_type": "execute_result"
    },
    {
     "data": {
      "image/png": "[encoded data removed]",
      "text/plain": [
       "<Figure size 432x288 with 1 Axes>"
      ]
     },
     "metadata": {
      "needs_background": "light"
     },
     "output_type": "display_data"
    }
   ],
   "source": [
    "### BEGIN SOLUTION\n",
    "KMeans = None\n",
    "\n",
    "k=3\n",
    "labels = kmeans(X.tolist(), k)\n",
    "\n",
    "# cluster points should have the same color\n",
    "plt.scatter(X[:, 0], X[:, 1], c=labels, s=40)\n",
    "### END SOLUTION"
   ]
  }
 ],
 "metadata": {
  "celltoolbar": "Create Assignment",
  "kernelspec": {
   "display_name": "Python 3",
   "language": "python",
   "name": "python3"
  },
  "language_info": {
   "codemirror_mode": {
    "name": "ipython",
    "version": 3
   },
   "file_extension": ".py",
   "mimetype": "text/x-python",
   "name": "python",
   "nbconvert_exporter": "python",
   "pygments_lexer": "ipython3",
   "version": "3.8.5"
  }
 },
 "nbformat": 4,
 "nbformat_minor": 2
}
